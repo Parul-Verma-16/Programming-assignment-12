{
 "cells": [
  {
   "cell_type": "markdown",
   "id": "7ad0d115",
   "metadata": {},
   "source": [
    "## 1) Write a Python program to Extract Unique values dictionary values?"
   ]
  },
  {
   "cell_type": "code",
   "execution_count": 2,
   "id": "141e304b",
   "metadata": {},
   "outputs": [
    {
     "name": "stdout",
     "output_type": "stream",
     "text": [
      "Unique values: {1, 2, 3, 4, 5, 6, 7, 8, 9, 10}\n"
     ]
    }
   ],
   "source": [
    "def extract_unique_values(dictionary):\n",
    "    # Create an empty set to store the unique values\n",
    "    unique_values = set()\n",
    "\n",
    "    # Iterate over the values of the dictionary\n",
    "    for value in dictionary.values():\n",
    "        # Check if the value is iterable (e.g., a list, tuple, set)\n",
    "        if isinstance(value, (list, tuple, set)):\n",
    "            # Add each element of the iterable to the set\n",
    "            unique_values.update(value)\n",
    "        else:\n",
    "            # Add the value itself to the set\n",
    "            unique_values.add(value)\n",
    "\n",
    "    # Return the set of unique values\n",
    "    return unique_values\n",
    "\n",
    "# Example usage:\n",
    "my_dict = {'a': [1, 2, 3], 'b': (4, 5, 6), 'c': {7, 8, 9}, 'd': 10}\n",
    "unique_values = extract_unique_values(my_dict)\n",
    "print(\"Unique values:\", unique_values)"
   ]
  },
  {
   "cell_type": "markdown",
   "id": "5959bfc3",
   "metadata": {},
   "source": [
    "## 2) Write a Python program to find the sum of all items in a dictionary?"
   ]
  },
  {
   "cell_type": "code",
   "execution_count": 3,
   "id": "285f5570",
   "metadata": {},
   "outputs": [
    {
     "name": "stdout",
     "output_type": "stream",
     "text": [
      "Sum of items: 100\n"
     ]
    }
   ],
   "source": [
    "def sum_of_items(dictionary):\n",
    "    return sum(dictionary.values())\n",
    "\n",
    "# Example usage:\n",
    "my_dict = {'a': 10, 'b': 20, 'c': 30, 'd': 40}\n",
    "total_sum = sum_of_items(my_dict)\n",
    "print(\"Sum of items:\", total_sum)"
   ]
  },
  {
   "cell_type": "markdown",
   "id": "e2778a75",
   "metadata": {},
   "source": [
    "## 3) Write a Python program to Merging two Dictionaries?"
   ]
  },
  {
   "cell_type": "code",
   "execution_count": 4,
   "id": "093de60c",
   "metadata": {},
   "outputs": [
    {
     "name": "stdout",
     "output_type": "stream",
     "text": [
      "Merged dictionary: {'a': 10, 'b': 20, 'c': 30, 'd': 40}\n"
     ]
    }
   ],
   "source": [
    "def merge_dicts(dict1, dict2):\n",
    "    merged_dict = dict1.copy()\n",
    "    merged_dict.update(dict2)\n",
    "    return merged_dict\n",
    "\n",
    "# Example usage:\n",
    "dict1 = {'a': 10, 'b': 20}\n",
    "dict2 = {'c': 30, 'd': 40}\n",
    "merged_dict = merge_dicts(dict1, dict2)\n",
    "print(\"Merged dictionary:\", merged_dict)"
   ]
  },
  {
   "cell_type": "markdown",
   "id": "18dcd6f5",
   "metadata": {},
   "source": [
    "## 4) Write a Python program to convert key-values list to flat dictionary?"
   ]
  },
  {
   "cell_type": "code",
   "execution_count": 5,
   "id": "4b5a83ff",
   "metadata": {},
   "outputs": [
    {
     "name": "stdout",
     "output_type": "stream",
     "text": [
      "Flat dictionary: {'a': 1, 'b': 2, 'c': 3}\n"
     ]
    }
   ],
   "source": [
    "def convert_to_flat_dict(key_value_list):\n",
    "    flat_dict = {}\n",
    "    for key, value in key_value_list:\n",
    "        flat_dict[key] = value\n",
    "    return flat_dict\n",
    "\n",
    "# Example usage:\n",
    "key_value_list = [(\"a\", 1), (\"b\", 2), (\"c\", 3)]\n",
    "flat_dict = convert_to_flat_dict(key_value_list)\n",
    "print(\"Flat dictionary:\", flat_dict)"
   ]
  },
  {
   "cell_type": "markdown",
   "id": "c7123ffb",
   "metadata": {},
   "source": [
    "## 5) Write a Python program to insertion at the beginning in OrderedDict?"
   ]
  },
  {
   "cell_type": "code",
   "execution_count": 7,
   "id": "e87c1d01",
   "metadata": {},
   "outputs": [
    {
     "name": "stdout",
     "output_type": "stream",
     "text": [
      "Original OrderedDict: OrderedDict([('a', 1), ('b', 2), ('c', 3)])\n",
      "Modified OrderedDict: OrderedDict([('d', 4), ('a', 1), ('b', 2), ('c', 3)])\n"
     ]
    }
   ],
   "source": [
    "from collections import OrderedDict\n",
    "\n",
    "def insert_at_beginning(od, key, value):\n",
    "    od[key] = value\n",
    "    od.move_to_end(key, last=False)\n",
    "\n",
    "# Example usage:\n",
    "od = OrderedDict([('a', 1), ('b', 2), ('c', 3)])\n",
    "print(\"Original OrderedDict:\", od)\n",
    "\n",
    "insert_at_beginning(od, 'd', 4)\n",
    "print(\"Modified OrderedDict:\", od)"
   ]
  },
  {
   "cell_type": "markdown",
   "id": "1951e7a8",
   "metadata": {},
   "source": [
    "## 6) Write a Python program to check order of character in string using OrderedDict()?"
   ]
  },
  {
   "cell_type": "code",
   "execution_count": 8,
   "id": "fe0ba05c",
   "metadata": {},
   "outputs": [
    {
     "name": "stdout",
     "output_type": "stream",
     "text": [
      "s1: False\n",
      "s2: True\n"
     ]
    }
   ],
   "source": [
    "from collections import OrderedDict\n",
    "\n",
    "def check_order_of_characters(string):\n",
    "    ordered_string = ''.join(OrderedDict.fromkeys(string))\n",
    "    return string == ordered_string\n",
    "\n",
    "# Example usage:\n",
    "s1 = \"hello\"\n",
    "s2 = \"world\"\n",
    "\n",
    "print(\"s1:\", check_order_of_characters(s1))\n",
    "print(\"s2:\", check_order_of_characters(s2))"
   ]
  },
  {
   "cell_type": "markdown",
   "id": "251478fe",
   "metadata": {},
   "source": [
    "## 7) Write a Python program to sort Python Dictionaries by Key or Value?"
   ]
  },
  {
   "cell_type": "code",
   "execution_count": 9,
   "id": "14024cab",
   "metadata": {},
   "outputs": [
    {
     "name": "stdout",
     "output_type": "stream",
     "text": [
      "Sorted by key: {'apple': 4, 'banana': 2, 'cherry': 3, 'date': 1}\n",
      "Sorted by value: {'date': 1, 'banana': 2, 'cherry': 3, 'apple': 4}\n"
     ]
    }
   ],
   "source": [
    "# Dictionary to be sorted\n",
    "my_dict = {'apple': 4, 'banana': 2, 'cherry': 3, 'date': 1}\n",
    "\n",
    "# Sort dictionary by key\n",
    "sorted_by_key = dict(sorted(my_dict.items()))\n",
    "print(\"Sorted by key:\", sorted_by_key)\n",
    "\n",
    "# Sort dictionary by value\n",
    "sorted_by_value = dict(sorted(my_dict.items(), key=lambda x: x[1]))\n",
    "print(\"Sorted by value:\", sorted_by_value)"
   ]
  }
 ],
 "metadata": {
  "kernelspec": {
   "display_name": "Python 3 (ipykernel)",
   "language": "python",
   "name": "python3"
  },
  "language_info": {
   "codemirror_mode": {
    "name": "ipython",
    "version": 3
   },
   "file_extension": ".py",
   "mimetype": "text/x-python",
   "name": "python",
   "nbconvert_exporter": "python",
   "pygments_lexer": "ipython3",
   "version": "3.9.13"
  }
 },
 "nbformat": 4,
 "nbformat_minor": 5
}
